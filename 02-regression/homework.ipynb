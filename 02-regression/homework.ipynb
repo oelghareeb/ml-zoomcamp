{
 "cells": [
  {
   "cell_type": "code",
   "execution_count": 11,
   "metadata": {},
   "outputs": [
    {
     "name": "stdout",
     "output_type": "stream",
     "text": [
      "--2024-10-07 19:15:26--  https://raw.githubusercontent.com/alexeygrigorev/datasets/master/laptops.csv\n",
      "Resolving raw.githubusercontent.com (raw.githubusercontent.com)... 185.199.110.133, 185.199.111.133, 185.199.108.133, ...\n",
      "Connecting to raw.githubusercontent.com (raw.githubusercontent.com)|185.199.110.133|:443... connected.\n",
      "HTTP request sent, awaiting response... 200 OK\n",
      "Length: 298573 (292K) [text/plain]\n",
      "Saving to: ‘laptops.csv.1’\n",
      "\n",
      "laptops.csv.1       100%[===================>] 291.58K  --.-KB/s    in 0.008s  \n",
      "\n",
      "2024-10-07 19:15:26 (33.7 MB/s) - ‘laptops.csv.1’ saved [298573/298573]\n",
      "\n"
     ]
    }
   ],
   "source": [
    "!wget https://raw.githubusercontent.com/alexeygrigorev/datasets/master/laptops.csv"
   ]
  },
  {
   "cell_type": "code",
   "execution_count": 231,
   "metadata": {},
   "outputs": [],
   "source": [
    "import pandas as pd\n",
    "\n",
    "df = pd.read_csv('/workspaces/ml-zoomcamp/02-regression/laptops.csv')\n",
    "df.columns = df.columns.str.lower().str.replace(' ', '_')"
   ]
  },
  {
   "cell_type": "code",
   "execution_count": 232,
   "metadata": {},
   "outputs": [
    {
     "data": {
      "text/html": [
       "<div>\n",
       "<style scoped>\n",
       "    .dataframe tbody tr th:only-of-type {\n",
       "        vertical-align: middle;\n",
       "    }\n",
       "\n",
       "    .dataframe tbody tr th {\n",
       "        vertical-align: top;\n",
       "    }\n",
       "\n",
       "    .dataframe thead th {\n",
       "        text-align: right;\n",
       "    }\n",
       "</style>\n",
       "<table border=\"1\" class=\"dataframe\">\n",
       "  <thead>\n",
       "    <tr style=\"text-align: right;\">\n",
       "      <th></th>\n",
       "      <th>laptop</th>\n",
       "      <th>status</th>\n",
       "      <th>brand</th>\n",
       "      <th>model</th>\n",
       "      <th>cpu</th>\n",
       "      <th>ram</th>\n",
       "      <th>storage</th>\n",
       "      <th>storage_type</th>\n",
       "      <th>gpu</th>\n",
       "      <th>screen</th>\n",
       "      <th>touch</th>\n",
       "      <th>final_price</th>\n",
       "    </tr>\n",
       "  </thead>\n",
       "  <tbody>\n",
       "    <tr>\n",
       "      <th>0</th>\n",
       "      <td>ASUS ExpertBook B1 B1502CBA-EJ0436X Intel Core...</td>\n",
       "      <td>New</td>\n",
       "      <td>Asus</td>\n",
       "      <td>ExpertBook</td>\n",
       "      <td>Intel Core i5</td>\n",
       "      <td>8</td>\n",
       "      <td>512</td>\n",
       "      <td>SSD</td>\n",
       "      <td>NaN</td>\n",
       "      <td>15.6</td>\n",
       "      <td>No</td>\n",
       "      <td>1009.00</td>\n",
       "    </tr>\n",
       "    <tr>\n",
       "      <th>1</th>\n",
       "      <td>Alurin Go Start Intel Celeron N4020/8GB/256GB ...</td>\n",
       "      <td>New</td>\n",
       "      <td>Alurin</td>\n",
       "      <td>Go</td>\n",
       "      <td>Intel Celeron</td>\n",
       "      <td>8</td>\n",
       "      <td>256</td>\n",
       "      <td>SSD</td>\n",
       "      <td>NaN</td>\n",
       "      <td>15.6</td>\n",
       "      <td>No</td>\n",
       "      <td>299.00</td>\n",
       "    </tr>\n",
       "    <tr>\n",
       "      <th>2</th>\n",
       "      <td>ASUS ExpertBook B1 B1502CBA-EJ0424X Intel Core...</td>\n",
       "      <td>New</td>\n",
       "      <td>Asus</td>\n",
       "      <td>ExpertBook</td>\n",
       "      <td>Intel Core i3</td>\n",
       "      <td>8</td>\n",
       "      <td>256</td>\n",
       "      <td>SSD</td>\n",
       "      <td>NaN</td>\n",
       "      <td>15.6</td>\n",
       "      <td>No</td>\n",
       "      <td>789.00</td>\n",
       "    </tr>\n",
       "    <tr>\n",
       "      <th>3</th>\n",
       "      <td>MSI Katana GF66 12UC-082XES Intel Core i7-1270...</td>\n",
       "      <td>New</td>\n",
       "      <td>MSI</td>\n",
       "      <td>Katana</td>\n",
       "      <td>Intel Core i7</td>\n",
       "      <td>16</td>\n",
       "      <td>1000</td>\n",
       "      <td>SSD</td>\n",
       "      <td>RTX 3050</td>\n",
       "      <td>15.6</td>\n",
       "      <td>No</td>\n",
       "      <td>1199.00</td>\n",
       "    </tr>\n",
       "    <tr>\n",
       "      <th>4</th>\n",
       "      <td>HP 15S-FQ5085NS Intel Core i5-1235U/16GB/512GB...</td>\n",
       "      <td>New</td>\n",
       "      <td>HP</td>\n",
       "      <td>15S</td>\n",
       "      <td>Intel Core i5</td>\n",
       "      <td>16</td>\n",
       "      <td>512</td>\n",
       "      <td>SSD</td>\n",
       "      <td>NaN</td>\n",
       "      <td>15.6</td>\n",
       "      <td>No</td>\n",
       "      <td>669.01</td>\n",
       "    </tr>\n",
       "  </tbody>\n",
       "</table>\n",
       "</div>"
      ],
      "text/plain": [
       "                                              laptop status   brand  \\\n",
       "0  ASUS ExpertBook B1 B1502CBA-EJ0436X Intel Core...    New    Asus   \n",
       "1  Alurin Go Start Intel Celeron N4020/8GB/256GB ...    New  Alurin   \n",
       "2  ASUS ExpertBook B1 B1502CBA-EJ0424X Intel Core...    New    Asus   \n",
       "3  MSI Katana GF66 12UC-082XES Intel Core i7-1270...    New     MSI   \n",
       "4  HP 15S-FQ5085NS Intel Core i5-1235U/16GB/512GB...    New      HP   \n",
       "\n",
       "        model            cpu  ram  storage storage_type       gpu  screen  \\\n",
       "0  ExpertBook  Intel Core i5    8      512          SSD       NaN    15.6   \n",
       "1          Go  Intel Celeron    8      256          SSD       NaN    15.6   \n",
       "2  ExpertBook  Intel Core i3    8      256          SSD       NaN    15.6   \n",
       "3      Katana  Intel Core i7   16     1000          SSD  RTX 3050    15.6   \n",
       "4         15S  Intel Core i5   16      512          SSD       NaN    15.6   \n",
       "\n",
       "  touch  final_price  \n",
       "0    No      1009.00  \n",
       "1    No       299.00  \n",
       "2    No       789.00  \n",
       "3    No      1199.00  \n",
       "4    No       669.01  "
      ]
     },
     "execution_count": 232,
     "metadata": {},
     "output_type": "execute_result"
    }
   ],
   "source": [
    "df.head()"
   ]
  },
  {
   "cell_type": "code",
   "execution_count": 233,
   "metadata": {},
   "outputs": [],
   "source": [
    "df = df[['ram', 'storage', 'screen', 'final_price']]"
   ]
  },
  {
   "cell_type": "code",
   "execution_count": 234,
   "metadata": {},
   "outputs": [
    {
     "data": {
      "text/plain": [
       "<Axes: ylabel='Density'>"
      ]
     },
     "execution_count": 234,
     "metadata": {},
     "output_type": "execute_result"
    },
    {
     "data": {
      "image/png": "[encoded data removed]",
      "text/plain": [
       "<Figure size 640x480 with 1 Axes>"
      ]
     },
     "metadata": {},
     "output_type": "display_data"
    }
   ],
   "source": [
    "df['final_price'].plot.kde()"
   ]
  },
  {
   "cell_type": "markdown",
   "metadata": {},
   "source": [
    "**Q1. Pandas version**\n",
    "\n",
    "There's one column with missing values. What is it?"
   ]
  },
  {
   "cell_type": "code",
   "execution_count": 235,
   "metadata": {},
   "outputs": [
    {
     "data": {
      "text/plain": [
       "ram            0\n",
       "storage        0\n",
       "screen         4\n",
       "final_price    0\n",
       "dtype: int64"
      ]
     },
     "execution_count": 235,
     "metadata": {},
     "output_type": "execute_result"
    }
   ],
   "source": [
    "df.isnull().sum()"
   ]
  },
  {
   "cell_type": "markdown",
   "metadata": {},
   "source": [
    "**Question 2**\n",
    "\n",
    "What's the median (50% percentile) for variable 'ram'?\n"
   ]
  },
  {
   "cell_type": "code",
   "execution_count": 236,
   "metadata": {},
   "outputs": [
    {
     "data": {
      "text/plain": [
       "np.float64(16.0)"
      ]
     },
     "execution_count": 236,
     "metadata": {},
     "output_type": "execute_result"
    }
   ],
   "source": [
    "df['ram'].median()"
   ]
  },
  {
   "cell_type": "markdown",
   "metadata": {},
   "source": [
    "**Prepare and split the dataset**\n",
    "\n",
    "- Shuffle the dataset (the filtered one you created above), use seed 42.\n",
    "- Split your data in train/val/test sets, with 60%/20%/20% distribution.\n"
   ]
  },
  {
   "cell_type": "code",
   "execution_count": 237,
   "metadata": {},
   "outputs": [],
   "source": [
    "import numpy as np\n",
    "\n",
    "np.random.seed(42)\n",
    "\n",
    "n = len(df)\n",
    "\n",
    "n_val = int(0.2 * n)\n",
    "n_test = int(0.2 * n)\n",
    "n_train = n - (n_val + n_test)\n",
    "\n",
    "idx = np.arange(n)\n",
    "np.random.shuffle(idx)\n",
    "\n",
    "df_shuffled = df.iloc[idx]\n",
    "\n",
    "df_train = df_shuffled.iloc[:n_train].copy()\n",
    "df_val = df_shuffled.iloc[n_train:n_train+n_val].copy()\n",
    "df_test = df_shuffled.iloc[n_train+n_val:].copy()"
   ]
  },
  {
   "cell_type": "code",
   "execution_count": 238,
   "metadata": {},
   "outputs": [],
   "source": [
    "y_train_orig = df_train.final_price.values\n",
    "y_val_orig = df_val.final_price.values\n",
    "y_test_orig = df_test.final_price.values\n",
    "\n",
    "y_train = np.log1p(df_train.final_price.values)\n",
    "y_val = np.log1p(df_val.final_price.values)\n",
    "y_test = np.log1p(df_test.final_price.values)\n",
    "\n",
    "del df_train['final_price']\n",
    "del df_val['final_price']\n",
    "del df_test['final_price']"
   ]
  },
  {
   "cell_type": "markdown",
   "metadata": {},
   "source": [
    "**Question 3**\n",
    "\n",
    "- We need to deal with missing values for the column from Q1.\n",
    "- We have two options: fill it with 0 or with the mean of this variable.\n",
    "- Try both options. For each, train a linear regression model without regularization using the code from the lessons.\n",
    "- For computing the mean, use the training only!\n",
    "- Use the validation dataset to evaluate the models and compare the RMSE of each option.\n",
    "- Round the RMSE scores to 2 decimal digits using round(score, 2)\n",
    "- Which option gives better RMSE?\n"
   ]
  },
  {
   "cell_type": "code",
   "execution_count": 239,
   "metadata": {},
   "outputs": [],
   "source": [
    "def train_linear_regression(X, y):\n",
    "    ones = np.ones(X.shape[0])\n",
    "    X = np.column_stack([ones, X])\n",
    "\n",
    "    XTX = X.T.dot(X)\n",
    "    XTX_inv = np.linalg.inv(XTX)\n",
    "    w = XTX_inv.dot(X.T).dot(y)\n",
    "    \n",
    "    return w[0], w[1:]"
   ]
  },
  {
   "cell_type": "code",
   "execution_count": 240,
   "metadata": {},
   "outputs": [],
   "source": [
    "base = df.drop('final_price', axis=1)"
   ]
  },
  {
   "cell_type": "markdown",
   "metadata": {},
   "source": [
    "**Option 1 - Fill missing values with 0**\n"
   ]
  },
  {
   "cell_type": "code",
   "execution_count": 241,
   "metadata": {},
   "outputs": [],
   "source": [
    "def prepare_X_fill_zeros(df):\n",
    "    df_num = df.copy()\n",
    "    df_num = df_num.fillna(0)\n",
    "    X = df_num.values\n",
    "    return X"
   ]
  },
  {
   "cell_type": "code",
   "execution_count": 242,
   "metadata": {},
   "outputs": [
    {
     "name": "stdout",
     "output_type": "stream",
     "text": [
      "RMSE (fill with 0): 1340.81\n"
     ]
    }
   ],
   "source": [
    "# Prepare training and validation data\n",
    "X_train_zero = prepare_X_fill_zeros(df_train)\n",
    "X_val_zero = prepare_X_fill_zeros(df_val)\n",
    "\n",
    "# Train the model on training data\n",
    "w_0_zero, w_zero = train_linear_regression(X_train_zero, y_train)\n",
    "\n",
    "# Predict on validation data\n",
    "y_pred_zero = w_0_zero + X_val_zero.dot(w_zero)\n",
    "\n",
    "# Convert predictions back using expm1 (reverse log1p)\n",
    "y_pred_zero_exp = np.expm1(y_pred_zero)\n",
    "\n",
    "# Calculate RMSE\n",
    "rmse_zero = np.sqrt(((y_val - y_pred_zero_exp) ** 2).mean())\n",
    "print(f'RMSE (fill with 0): {round(rmse_zero, 2)}')"
   ]
  },
  {
   "cell_type": "markdown",
   "metadata": {},
   "source": [
    "**Option 2 - Fill missing values with the mean**\n"
   ]
  },
  {
   "cell_type": "code",
   "execution_count": 243,
   "metadata": {},
   "outputs": [],
   "source": [
    "mean_storage = df_train['storage'].mean()"
   ]
  },
  {
   "cell_type": "code",
   "execution_count": 244,
   "metadata": {},
   "outputs": [],
   "source": [
    "def prepare_X_fill_mean(df, mean_value):\n",
    "    df_num = df.copy()\n",
    "    df_num = df_num.fillna(mean_value)\n",
    "    X = df_num.values\n",
    "    return X"
   ]
  },
  {
   "cell_type": "code",
   "execution_count": 245,
   "metadata": {},
   "outputs": [
    {
     "name": "stdout",
     "output_type": "stream",
     "text": [
      "RMSE (fill with mean): 1338.82\n"
     ]
    }
   ],
   "source": [
    "# Prepare training and validation data\n",
    "X_train_mean = prepare_X_fill_mean(df_train, mean_storage)\n",
    "X_val_mean = prepare_X_fill_mean(df_val, mean_storage)\n",
    "\n",
    "# Train the model on training data\n",
    "w_0_mean, w_mean = train_linear_regression(X_train_mean, y_train)\n",
    "\n",
    "# Predict on validation data\n",
    "y_pred_mean = w_0_mean + X_val_mean.dot(w_mean)\n",
    "\n",
    "# Convert predictions back using expm1 (reverse log1p)\n",
    "y_pred_mean_exp = np.expm1(y_pred_mean)\n",
    "\n",
    "# Calculate RMSE\n",
    "rmse_mean = np.sqrt(((y_val - y_pred_mean_exp) ** 2).mean())\n",
    "print(f'RMSE (fill with mean): {round(rmse_mean, 2)}')"
   ]
  },
  {
   "cell_type": "markdown",
   "metadata": {},
   "source": [
    "**Question 4**\n",
    "\n",
    "- Now let's train a regularized linear regression.\n",
    "- For this question, fill the NAs with 0.\n",
    "- Try different values of r from this list: [0, 0.01, 0.1, 1, 5, 10, 100].\n",
    "- Use RMSE to evaluate the model on the validation dataset.\n",
    "- Round the RMSE scores to 2 decimal digits.\n",
    "- Which r gives the best RMSE?"
   ]
  },
  {
   "cell_type": "code",
   "execution_count": 246,
   "metadata": {},
   "outputs": [],
   "source": [
    "def train_linear_regression_reg(X, y, r=0.0):\n",
    "    ones = np.ones(X.shape[0])\n",
    "    X = np.column_stack([ones, X])\n",
    "\n",
    "    XTX = X.T.dot(X)\n",
    "    reg = r * np.eye(XTX.shape[0])\n",
    "    XTX = XTX + reg\n",
    "\n",
    "    XTX_inv = np.linalg.inv(XTX)\n",
    "    w = XTX_inv.dot(X.T).dot(y)\n",
    "    \n",
    "    return w[0], w[1:]"
   ]
  },
  {
   "cell_type": "code",
   "execution_count": 247,
   "metadata": {},
   "outputs": [],
   "source": [
    "def rmse(y, y_pred):\n",
    "    error = y_pred - y\n",
    "    mse = (error ** 2).mean()\n",
    "    return np.sqrt(mse)"
   ]
  },
  {
   "cell_type": "code",
   "execution_count": 248,
   "metadata": {},
   "outputs": [
    {
     "name": "stdout",
     "output_type": "stream",
     "text": [
      "     0 0.4288635315474416\n",
      "  0.01 0.4288516360534088\n",
      "   0.1 0.42877560097076456\n",
      "     1 0.4305932989743414\n",
      "     5 0.4632095257580652\n",
      "    10 0.507565776923692\n",
      "   100 0.673502606172582\n"
     ]
    }
   ],
   "source": [
    "X_train = prepare_X_fill_zeros(df_train)\n",
    "X_val = prepare_X_fill_zeros(df_val)\n",
    "\n",
    "for r in [0, 0.01, 0.1, 1, 5, 10, 100]:\n",
    "    w_0, w = train_linear_regression_reg(X_train, y_train, r=r)\n",
    "    y_pred = w_0 + X_val.dot(w)\n",
    "    print('%6s' %r, rmse(y_val, y_pred))"
   ]
  },
  {
   "cell_type": "markdown",
   "metadata": {},
   "source": [
    "**Question 5**\n",
    "\n",
    "- We used seed 42 for splitting the data. Let's find out how selecting the seed influences our score.\n",
    "- Try different seed values: [0, 1, 2, 3, 4, 5, 6, 7, 8, 9].\n",
    "- For each seed, do the train/validation/test split with 60%/20%/20% distribution.\n",
    "- Fill the missing values with 0 and train a model without regularization.\n",
    "- For each seed, evaluate the model on the validation dataset and collect the RMSE scores.\n",
    "- What's the standard deviation of all the scores? To compute the standard deviation, use np.std.\n",
    "- Round the result to 3 decimal digits (round(std, 3))"
   ]
  },
  {
   "cell_type": "code",
   "execution_count": 249,
   "metadata": {},
   "outputs": [
    {
     "name": "stdout",
     "output_type": "stream",
     "text": [
      "Seed 0: RMSE = 0.430\n",
      "Seed 1: RMSE = 0.452\n",
      "Seed 2: RMSE = 0.446\n",
      "Seed 3: RMSE = 0.446\n",
      "Seed 4: RMSE = 0.420\n",
      "Seed 5: RMSE = 0.425\n",
      "Seed 6: RMSE = 0.449\n",
      "Seed 7: RMSE = 0.431\n",
      "Seed 8: RMSE = 0.443\n",
      "Seed 9: RMSE = 0.408\n",
      "\n",
      "Standard Deviation of RMSE scores across seeds: 0.014\n"
     ]
    }
   ],
   "source": [
    "rmse_scores = []\n",
    "\n",
    "for seed in range(10):\n",
    "    np.random.seed(seed)\n",
    "\n",
    "    n = len(df)\n",
    "\n",
    "    n_val = int(0.2 * n)\n",
    "    n_test = int(0.2 * n)\n",
    "    n_train = n - (n_val + n_test)\n",
    "\n",
    "    idx = np.arange(n)\n",
    "    np.random.shuffle(idx)\n",
    "\n",
    "    df_shuffled = df.iloc[idx]\n",
    "\n",
    "    df_train = df_shuffled.iloc[:n_train].copy()\n",
    "    df_val = df_shuffled.iloc[n_train:n_train+n_val].copy()\n",
    "    df_test = df_shuffled.iloc[n_train+n_val:].copy()\n",
    "\n",
    "    # Extract and log-transform target values\n",
    "    y_train_orig = df_train.final_price.values\n",
    "    y_val_orig = df_val.final_price.values\n",
    "    y_test_orig = df_test.final_price.values\n",
    "\n",
    "    y_train = np.log1p(y_train_orig)\n",
    "    y_val = np.log1p(y_val_orig)\n",
    "    y_test = np.log1p(y_test_orig)\n",
    "\n",
    "    # Remove the target column from the feature DataFrames\n",
    "    del df_train['final_price']\n",
    "    del df_val['final_price']\n",
    "    del df_test['final_price']\n",
    "\n",
    "    # Prepare feature matrices\n",
    "    X_train = prepare_X_fill_zeros(df_train)\n",
    "    X_val = prepare_X_fill_zeros(df_val)\n",
    "\n",
    "    # Train the linear regression model\n",
    "    w_0, w = train_linear_regression(X_train, y_train)\n",
    "    \n",
    "    # Predict on the validation set\n",
    "    y_pred = w_0 + X_val.dot(w)\n",
    "\n",
    "    # Compute RMSE using the original (non-log-transformed) validation values\n",
    "    current_rmse = rmse(y_val, y_pred)\n",
    "    rmse_scores.append(current_rmse)\n",
    "\n",
    "    # Print the RMSE for the current seed\n",
    "    print(f'Seed {seed}: RMSE = {current_rmse:.3f}')\n",
    "\n",
    "# Compute the standard deviation of RMSE scores\n",
    "std_rmse = np.std(rmse_scores)\n",
    "std_rmse_rounded = round(std_rmse, 3)\n",
    "\n",
    "# Print the standard deviation of the RMSE scores\n",
    "print(f'\\nStandard Deviation of RMSE scores across seeds: {std_rmse_rounded}')\n"
   ]
  },
  {
   "cell_type": "code",
   "execution_count": 256,
   "metadata": {},
   "outputs": [
    {
     "name": "stdout",
     "output_type": "stream",
     "text": [
      "The RMSE score in test dataset is: 0.43\n"
     ]
    }
   ],
   "source": [
    "n = len(df)\n",
    "n_test = int(n * 0.4)\n",
    "n_train = n - n_val - n_test\n",
    "\n",
    "idx = np.arange(n)\n",
    "np.random.seed(9)\n",
    "np.random.shuffle(idx)\n",
    "\n",
    "df_train = df.iloc[idx[:n_train+n_val]]\n",
    "df_test = df.iloc[idx[n_train+n_val:]]\n",
    "\n",
    "df_train = df_train.reset_index(drop=True)\n",
    "df_test = df_test.reset_index(drop=True)\n",
    "\n",
    "y_train = np.log1p(df_train.final_price.values)\n",
    "y_test = np.log1p(df_test.final_price.values)\n",
    "\n",
    "del df_train['final_price']\n",
    "del df_test['final_price']\n",
    "\n",
    "X_train = prepare_X_fill_zeros(df_train)\n",
    "w0, w = train_linear_regression_reg(X_train, y_train, r=0.001)\n",
    "\n",
    "X_test = prepare_X_fill_zeros(df_test)\n",
    "y_pred = w0 + X_test.dot(w)\n",
    "\n",
    "\n",
    "print(f\"The RMSE score in test dataset is: {round(rmse(y_test, y_pred), 2)}\")"
   ]
  }
 ],
 "metadata": {
  "kernelspec": {
   "display_name": "Python 3",
   "language": "python",
   "name": "python3"
  },
  "language_info": {
   "codemirror_mode": {
    "name": "ipython",
    "version": 3
   },
   "file_extension": ".py",
   "mimetype": "text/x-python",
   "name": "python",
   "nbconvert_exporter": "python",
   "pygments_lexer": "ipython3",
   "version": "3.12.1"
  }
 },
 "nbformat": 4,
 "nbformat_minor": 2
}
